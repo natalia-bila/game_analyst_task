{
 "cells": [
  {
   "cell_type": "code",
   "execution_count": 1,
   "metadata": {},
   "outputs": [],
   "source": [
    "import pandas as pd\n",
    "import numpy as np\n",
    "from scipy.stats import poisson\n",
    "import scipy.stats as st\n",
    "import math\n",
    "import matplotlib.pyplot as plt\n",
    "%matplotlib inline"
   ]
  },
  {
   "cell_type": "markdown",
   "metadata": {},
   "source": [
    "# Задание 1"
   ]
  },
  {
   "cell_type": "code",
   "execution_count": 2,
   "metadata": {},
   "outputs": [],
   "source": [
    "mu = 6\n",
    "n_iid = 200\n",
    "n_simulations = 2000"
   ]
  },
  {
   "cell_type": "code",
   "execution_count": 3,
   "metadata": {},
   "outputs": [
    {
     "name": "stdout",
     "output_type": "stream",
     "text": [
      "[ 9  5  6  7  9  7  3 10  3  5  6  2  5  5  5  9  7  7  4 12  7  2  5  8\n",
      "  3  5 10  4  4  5  4 11  5  8  4  1  6  4  2  6  3  3  5  6  5  5  9  7\n",
      "  3  4  6  6  9 10  7  8  4  6  6  9  5  5  4  4  2  6  5  7  4  6  9  6\n",
      "  5  3  8  5  7 11  5  5  4  8  2  4  5  6  7  8  7  5  7  4  6  7  5 10\n",
      "  7  5  5  8 10  6  5  7  5  3  5  6  8  3  5  8  5  3  5  5  8  9  7  6\n",
      "  3  8  7  6 10  6  6  8  3 11  3  8  5  5  7  5  5  8  2  6  6  5  5  8\n",
      "  6  7  3  7 10  4  6  1  4  3  3  3  6  8  3 10  6  7  6  3  8  0  7  4\n",
      "  6  2  5  6  7  6 10  9  2  4  5  6 10  4  5  6  8  7  4  3  9  9 12  7\n",
      "  3  5  7  8  6  3  5  9]\n"
     ]
    }
   ],
   "source": [
    "r = poisson.rvs(mu, size=n_iid)\n",
    "print(r)"
   ]
  },
  {
   "cell_type": "code",
   "execution_count": 4,
   "metadata": {},
   "outputs": [],
   "source": [
    "array_of_avgs = []"
   ]
  },
  {
   "cell_type": "code",
   "execution_count": 5,
   "metadata": {},
   "outputs": [],
   "source": [
    "for i in range(n_simulations):\n",
    "    r = poisson.rvs(mu, size=n_iid)\n",
    "    array_of_avgs.append(r.mean())"
   ]
  },
  {
   "cell_type": "code",
   "execution_count": 6,
   "metadata": {},
   "outputs": [],
   "source": [
    "n_bins = math.ceil(math.log2(n_simulations)) + 1"
   ]
  },
  {
   "cell_type": "code",
   "execution_count": 7,
   "metadata": {
    "scrolled": true
   },
   "outputs": [
    {
     "data": {
      "image/png": "[encoded data removed]",
      "text/plain": [
       "<Figure size 432x288 with 1 Axes>"
      ]
     },
     "metadata": {
      "needs_background": "light"
     },
     "output_type": "display_data"
    }
   ],
   "source": [
    "plt.hist(array_of_avgs,  bins=n_bins) \n",
    "plt.ylabel('Amount')\n",
    "plt.xlabel('Data');"
   ]
  },
  {
   "cell_type": "markdown",
   "metadata": {},
   "source": [
    "#### Нормальное распределение - Central Limit Theorem"
   ]
  },
  {
   "cell_type": "code",
   "execution_count": 8,
   "metadata": {},
   "outputs": [],
   "source": [
    "array_of_avgs = np.array(array_of_avgs)"
   ]
  },
  {
   "cell_type": "code",
   "execution_count": 9,
   "metadata": {},
   "outputs": [],
   "source": [
    "mean_ = array_of_avgs.mean() #среднее"
   ]
  },
  {
   "cell_type": "code",
   "execution_count": 10,
   "metadata": {},
   "outputs": [],
   "source": [
    "variance = np.var(array_of_avgs) #дисперсия"
   ]
  },
  {
   "cell_type": "code",
   "execution_count": 11,
   "metadata": {},
   "outputs": [],
   "source": [
    "sd = math.sqrt(variance) #стандартное отклонение"
   ]
  },
  {
   "cell_type": "code",
   "execution_count": 12,
   "metadata": {},
   "outputs": [
    {
     "name": "stdout",
     "output_type": "stream",
     "text": [
      "mean =  5.995 \n",
      "variance =  0.029 \n",
      "standart deviation = 0.172\n"
     ]
    }
   ],
   "source": [
    "print('mean = ', round(mean_,3),'\\nvariance = ',round(variance,3), '\\nstandart deviation =', round(sd,3))"
   ]
  },
  {
   "cell_type": "markdown",
   "metadata": {},
   "source": [
    " Если для экспоненциального распределения с параметром lambda = 0.5 провести подобные действия (вычисление среднего от 200 iid случайных величин в 2000 симуляциях), то мы тоже получим нормально распределенную величину, но со средним близким к 1/0.5 = 2"
   ]
  },
  {
   "cell_type": "markdown",
   "metadata": {},
   "source": [
    "# Задание 3"
   ]
  },
  {
   "cell_type": "code",
   "execution_count": 13,
   "metadata": {},
   "outputs": [],
   "source": [
    "df = pd.read_csv('Analytical_Test.csv', delimiter = ';')"
   ]
  },
  {
   "cell_type": "code",
   "execution_count": 14,
   "metadata": {},
   "outputs": [
    {
     "data": {
      "text/plain": [
       "Index(['userid', 'day', 'time', 'revenue', 'offerid', 'promotionid', 'price'], dtype='object')"
      ]
     },
     "execution_count": 14,
     "metadata": {},
     "output_type": "execute_result"
    }
   ],
   "source": [
    "df.columns"
   ]
  },
  {
   "cell_type": "code",
   "execution_count": 15,
   "metadata": {},
   "outputs": [
    {
     "data": {
      "text/html": [
       "<div>\n",
       "<style scoped>\n",
       "    .dataframe tbody tr th:only-of-type {\n",
       "        vertical-align: middle;\n",
       "    }\n",
       "\n",
       "    .dataframe tbody tr th {\n",
       "        vertical-align: top;\n",
       "    }\n",
       "\n",
       "    .dataframe thead th {\n",
       "        text-align: right;\n",
       "    }\n",
       "</style>\n",
       "<table border=\"1\" class=\"dataframe\">\n",
       "  <thead>\n",
       "    <tr style=\"text-align: right;\">\n",
       "      <th></th>\n",
       "      <th>userid</th>\n",
       "      <th>day</th>\n",
       "      <th>time</th>\n",
       "      <th>revenue</th>\n",
       "      <th>offerid</th>\n",
       "      <th>promotionid</th>\n",
       "      <th>price</th>\n",
       "    </tr>\n",
       "  </thead>\n",
       "  <tbody>\n",
       "    <tr>\n",
       "      <td>0</td>\n",
       "      <td>81311083902161592</td>\n",
       "      <td>2019-10-17</td>\n",
       "      <td>2019-10-17 12:28:42.9441 UTC</td>\n",
       "      <td>8,499019193</td>\n",
       "      <td>NaN</td>\n",
       "      <td>NaN</td>\n",
       "      <td>9,96</td>\n",
       "    </tr>\n",
       "    <tr>\n",
       "      <td>1</td>\n",
       "      <td>81311152617854404</td>\n",
       "      <td>2019-10-17</td>\n",
       "      <td>2019-10-17 06:19:13.5882 UTC</td>\n",
       "      <td>6,651215354</td>\n",
       "      <td>NaN</td>\n",
       "      <td>NaN</td>\n",
       "      <td>15,78</td>\n",
       "    </tr>\n",
       "    <tr>\n",
       "      <td>2</td>\n",
       "      <td>81311083900752467</td>\n",
       "      <td>2019-10-17</td>\n",
       "      <td>2019-10-17 12:57:09.2295 UTC</td>\n",
       "      <td>24,36723487</td>\n",
       "      <td>NaN</td>\n",
       "      <td>NaN</td>\n",
       "      <td>20,1</td>\n",
       "    </tr>\n",
       "    <tr>\n",
       "      <td>3</td>\n",
       "      <td>81311083897991208</td>\n",
       "      <td>2019-10-17</td>\n",
       "      <td>2019-10-17 20:58:32.4207 UTC</td>\n",
       "      <td>34,35885787</td>\n",
       "      <td>3245.0</td>\n",
       "      <td>1074.0</td>\n",
       "      <td>34,99</td>\n",
       "    </tr>\n",
       "    <tr>\n",
       "      <td>4</td>\n",
       "      <td>81311083901723932</td>\n",
       "      <td>2019-10-17</td>\n",
       "      <td>2019-10-17 22:22:24.087 UTC</td>\n",
       "      <td>10,77239388</td>\n",
       "      <td>NaN</td>\n",
       "      <td>NaN</td>\n",
       "      <td>9,34</td>\n",
       "    </tr>\n",
       "    <tr>\n",
       "      <td>5</td>\n",
       "      <td>81311083902488594</td>\n",
       "      <td>2019-10-17</td>\n",
       "      <td>2019-10-17 21:22:48.4106 UTC</td>\n",
       "      <td>27,20474128</td>\n",
       "      <td>17386.0</td>\n",
       "      <td>1074.0</td>\n",
       "      <td>22,49</td>\n",
       "    </tr>\n",
       "    <tr>\n",
       "      <td>6</td>\n",
       "      <td>81311083902242405</td>\n",
       "      <td>2019-10-17</td>\n",
       "      <td>2019-10-17 01:58:46.6134 UTC</td>\n",
       "      <td>48,73446974</td>\n",
       "      <td>17390.0</td>\n",
       "      <td>1074.0</td>\n",
       "      <td>39,99</td>\n",
       "    </tr>\n",
       "    <tr>\n",
       "      <td>7</td>\n",
       "      <td>81311083900752467</td>\n",
       "      <td>2019-10-17</td>\n",
       "      <td>2019-10-17 12:57:23.1374 UTC</td>\n",
       "      <td>12,18361744</td>\n",
       "      <td>NaN</td>\n",
       "      <td>NaN</td>\n",
       "      <td>10,05</td>\n",
       "    </tr>\n",
       "    <tr>\n",
       "      <td>8</td>\n",
       "      <td>81311083899299583</td>\n",
       "      <td>2019-10-17</td>\n",
       "      <td>2019-10-17 19:57:05.1818 UTC</td>\n",
       "      <td>18,89439846</td>\n",
       "      <td>NaN</td>\n",
       "      <td>NaN</td>\n",
       "      <td>19,55</td>\n",
       "    </tr>\n",
       "    <tr>\n",
       "      <td>9</td>\n",
       "      <td>81311083902170090</td>\n",
       "      <td>2019-10-17</td>\n",
       "      <td>2019-10-17 22:32:50.0264 UTC</td>\n",
       "      <td>4,105516997</td>\n",
       "      <td>NaN</td>\n",
       "      <td>NaN</td>\n",
       "      <td>4,98</td>\n",
       "    </tr>\n",
       "  </tbody>\n",
       "</table>\n",
       "</div>"
      ],
      "text/plain": [
       "              userid         day                          time      revenue  \\\n",
       "0  81311083902161592  2019-10-17  2019-10-17 12:28:42.9441 UTC  8,499019193   \n",
       "1  81311152617854404  2019-10-17  2019-10-17 06:19:13.5882 UTC  6,651215354   \n",
       "2  81311083900752467  2019-10-17  2019-10-17 12:57:09.2295 UTC  24,36723487   \n",
       "3  81311083897991208  2019-10-17  2019-10-17 20:58:32.4207 UTC  34,35885787   \n",
       "4  81311083901723932  2019-10-17   2019-10-17 22:22:24.087 UTC  10,77239388   \n",
       "5  81311083902488594  2019-10-17  2019-10-17 21:22:48.4106 UTC  27,20474128   \n",
       "6  81311083902242405  2019-10-17  2019-10-17 01:58:46.6134 UTC  48,73446974   \n",
       "7  81311083900752467  2019-10-17  2019-10-17 12:57:23.1374 UTC  12,18361744   \n",
       "8  81311083899299583  2019-10-17  2019-10-17 19:57:05.1818 UTC  18,89439846   \n",
       "9  81311083902170090  2019-10-17  2019-10-17 22:32:50.0264 UTC  4,105516997   \n",
       "\n",
       "   offerid  promotionid  price  \n",
       "0      NaN          NaN   9,96  \n",
       "1      NaN          NaN  15,78  \n",
       "2      NaN          NaN   20,1  \n",
       "3   3245.0       1074.0  34,99  \n",
       "4      NaN          NaN   9,34  \n",
       "5  17386.0       1074.0  22,49  \n",
       "6  17390.0       1074.0  39,99  \n",
       "7      NaN          NaN  10,05  \n",
       "8      NaN          NaN  19,55  \n",
       "9      NaN          NaN   4,98  "
      ]
     },
     "execution_count": 15,
     "metadata": {},
     "output_type": "execute_result"
    }
   ],
   "source": [
    "df.head(10)"
   ]
  },
  {
   "cell_type": "code",
   "execution_count": 16,
   "metadata": {},
   "outputs": [],
   "source": [
    "df['revenue'] = pd.to_numeric(df['revenue'].str.replace(',', '.', regex=False))\n",
    "df['price'] = pd.to_numeric(df['price'].str.replace(',', '.', regex=False))\n",
    "df['day'] = pd.to_datetime(df['day'])"
   ]
  },
  {
   "cell_type": "code",
   "execution_count": 17,
   "metadata": {},
   "outputs": [],
   "source": [
    "def metrics_monitization(df, promotionid, segment = None):\n",
    "    \n",
    "    promotion = df[df['promotionid']==promotionid]\n",
    "    if segment:\n",
    "        revenue_promotion = promotion['revenue'].sum()\n",
    "        promotion = promotion[df['offerid']==segment]\n",
    "    \n",
    "    depositors = promotion['userid'].nunique() # количество юзеров сделавших оплату\n",
    "    deposits =  promotion['revenue'].count() # количество оплат\n",
    "    \n",
    "    conversion_rate = depositors/275000 # Конверсия\n",
    "    revenue = promotion['revenue'].sum()  # доход\n",
    "    arppu = revenue/depositors # доход на платежного юзера\n",
    "    arpu = revenue/275000 # доход на юзера\n",
    "    avg_per_user_df = promotion[['userid', 'revenue']].groupby(['userid']).agg('mean')\n",
    "    x = np.array(avg_per_user_df['revenue'].sort_values(ascending=True))\n",
    "    avg_per_user_deposits = np.median(x) # среднее значение оплаты юзером\n",
    "    if segment:\n",
    "        perc_of_revenue =  revenue/revenue_promotion # процент от дохода по сегменту\n",
    "    else:\n",
    "         perc_of_revenue = None\n",
    "    return (promotion, depositors, deposits,conversion_rate, revenue, arppu, arpu,  avg_per_user_deposits, perc_of_revenue)"
   ]
  },
  {
   "cell_type": "markdown",
   "metadata": {},
   "source": [
    "# Promotion 4137"
   ]
  },
  {
   "cell_type": "markdown",
   "metadata": {},
   "source": [
    "### In-game discount"
   ]
  },
  {
   "cell_type": "code",
   "execution_count": 18,
   "metadata": {},
   "outputs": [],
   "source": [
    "promotion_4137, depositors_4137, deposits_4137,conversion_rate_4137, revenue_4137, arppu_4137, arpu_4137, \\\n",
    "avg_per_user_deposits_4137, _ = metrics_monitization(df, 4137)"
   ]
  },
  {
   "cell_type": "code",
   "execution_count": 19,
   "metadata": {},
   "outputs": [
    {
     "data": {
      "text/plain": [
       "offerid  promotionid  price\n",
       "18784.0  4137.0       99.99      61\n",
       "18785.0  4137.0       49.99     268\n",
       "18786.0  4137.0       19.99     338\n",
       "18787.0  4137.0       79.99     388\n",
       "18788.0  4137.0       9.99     1360\n",
       "18789.0  4137.0       5.99      474\n",
       "dtype: int64"
      ]
     },
     "execution_count": 19,
     "metadata": {},
     "output_type": "execute_result"
    }
   ],
   "source": [
    "promotion_4137[['offerid', 'promotionid', 'price']].groupby(['offerid', 'promotionid', 'price']).size()"
   ]
  },
  {
   "cell_type": "markdown",
   "metadata": {},
   "source": [
    "### Метрики для сегментов в скидке 4137"
   ]
  },
  {
   "cell_type": "code",
   "execution_count": 20,
   "metadata": {},
   "outputs": [],
   "source": [
    "segments_4137 = promotion_4137['offerid'].unique()"
   ]
  },
  {
   "cell_type": "code",
   "execution_count": 21,
   "metadata": {},
   "outputs": [
    {
     "name": "stderr",
     "output_type": "stream",
     "text": [
      "C:\\Users\\Natalia\\Anaconda3\\lib\\site-packages\\ipykernel_launcher.py:6: UserWarning: Boolean Series key will be reindexed to match DataFrame index.\n",
      "  \n"
     ]
    }
   ],
   "source": [
    "depositors_segments_4137 = {}\n",
    "deposits_segments_4137 = {}\n",
    "conversion_rate_segments_4137 = {}\n",
    "revenue_segments_4137 = {}\n",
    "arppu_segments_4137 = {}\n",
    "arpu_segments_4137 = {}\n",
    "avg_per_user_deposits_segement_4137 = {}\n",
    "perc_of_revenue_segments_4137 = {}\n",
    "for segment in segments_4137:\n",
    "    _, \\\n",
    "    depositors_segments_4137[segment],\\\n",
    "    deposits_segments_4137[segment], \\\n",
    "    conversion_rate_segments_4137[segment], \\\n",
    "    revenue_segments_4137[segment], \\\n",
    "    arppu_segments_4137[segment], \\\n",
    "    arpu_segments_4137[segment], \\\n",
    "    avg_per_user_deposits_segement_4137[segment],\\\n",
    "    perc_of_revenue_segments_4137[segment] =  metrics_monitization(df, 4137, segment)\n",
    "    "
   ]
  },
  {
   "cell_type": "code",
   "execution_count": 58,
   "metadata": {},
   "outputs": [],
   "source": [
    "df_segments_4137 = pd.DataFrame({\n",
    "    'depositors':pd.Series(depositors_segments_4137),\\\n",
    "    'deposits':pd.Series(deposits_segments_4137), \\\n",
    "    'conversion_rate':pd.Series(conversion_rate_segments_4137).round(3), \\\n",
    "    'revenue_segments':pd.Series(revenue_segments_4137).round(3), \\\n",
    "    'arppu_segments':pd.Series(arppu_segments_4137).round(3), \\\n",
    "    'arpu_segments':pd.Series(arpu_segments_4137).round(3), \\\n",
    "    'avg_per_user_deposits':pd.Series(avg_per_user_deposits_segement_4137).round(3),\\\n",
    "    'perc_of_revenue': pd.Series(perc_of_revenue_segments_4137).round(3)\n",
    "})"
   ]
  },
  {
   "cell_type": "code",
   "execution_count": 59,
   "metadata": {},
   "outputs": [],
   "source": [
    "df_segments_4137.index.name = 'segments'"
   ]
  },
  {
   "cell_type": "code",
   "execution_count": 60,
   "metadata": {},
   "outputs": [
    {
     "data": {
      "text/html": [
       "<div>\n",
       "<style scoped>\n",
       "    .dataframe tbody tr th:only-of-type {\n",
       "        vertical-align: middle;\n",
       "    }\n",
       "\n",
       "    .dataframe tbody tr th {\n",
       "        vertical-align: top;\n",
       "    }\n",
       "\n",
       "    .dataframe thead th {\n",
       "        text-align: right;\n",
       "    }\n",
       "</style>\n",
       "<table border=\"1\" class=\"dataframe\">\n",
       "  <thead>\n",
       "    <tr style=\"text-align: right;\">\n",
       "      <th></th>\n",
       "      <th>depositors</th>\n",
       "      <th>deposits</th>\n",
       "      <th>conversion_rate</th>\n",
       "      <th>revenue_segments</th>\n",
       "      <th>arppu_segments</th>\n",
       "      <th>arpu_segments</th>\n",
       "      <th>avg_per_user_deposits</th>\n",
       "      <th>perc_of_revenue</th>\n",
       "    </tr>\n",
       "    <tr>\n",
       "      <th>segments</th>\n",
       "      <th></th>\n",
       "      <th></th>\n",
       "      <th></th>\n",
       "      <th></th>\n",
       "      <th></th>\n",
       "      <th></th>\n",
       "      <th></th>\n",
       "      <th></th>\n",
       "    </tr>\n",
       "  </thead>\n",
       "  <tbody>\n",
       "    <tr>\n",
       "      <td>18784.0</td>\n",
       "      <td>29</td>\n",
       "      <td>61</td>\n",
       "      <td>0.000</td>\n",
       "      <td>6711.312</td>\n",
       "      <td>231.425</td>\n",
       "      <td>0.024</td>\n",
       "      <td>97.695</td>\n",
       "      <td>0.091</td>\n",
       "    </tr>\n",
       "    <tr>\n",
       "      <td>18785.0</td>\n",
       "      <td>186</td>\n",
       "      <td>268</td>\n",
       "      <td>0.001</td>\n",
       "      <td>13833.294</td>\n",
       "      <td>74.373</td>\n",
       "      <td>0.050</td>\n",
       "      <td>48.682</td>\n",
       "      <td>0.187</td>\n",
       "    </tr>\n",
       "    <tr>\n",
       "      <td>18786.0</td>\n",
       "      <td>221</td>\n",
       "      <td>338</td>\n",
       "      <td>0.001</td>\n",
       "      <td>5754.932</td>\n",
       "      <td>26.040</td>\n",
       "      <td>0.021</td>\n",
       "      <td>19.304</td>\n",
       "      <td>0.078</td>\n",
       "    </tr>\n",
       "    <tr>\n",
       "      <td>18787.0</td>\n",
       "      <td>210</td>\n",
       "      <td>388</td>\n",
       "      <td>0.001</td>\n",
       "      <td>33636.607</td>\n",
       "      <td>160.174</td>\n",
       "      <td>0.122</td>\n",
       "      <td>77.895</td>\n",
       "      <td>0.454</td>\n",
       "    </tr>\n",
       "    <tr>\n",
       "      <td>18788.0</td>\n",
       "      <td>835</td>\n",
       "      <td>1360</td>\n",
       "      <td>0.003</td>\n",
       "      <td>11424.124</td>\n",
       "      <td>13.682</td>\n",
       "      <td>0.042</td>\n",
       "      <td>9.600</td>\n",
       "      <td>0.154</td>\n",
       "    </tr>\n",
       "    <tr>\n",
       "      <td>18789.0</td>\n",
       "      <td>260</td>\n",
       "      <td>474</td>\n",
       "      <td>0.001</td>\n",
       "      <td>2786.020</td>\n",
       "      <td>10.715</td>\n",
       "      <td>0.010</td>\n",
       "      <td>5.842</td>\n",
       "      <td>0.038</td>\n",
       "    </tr>\n",
       "  </tbody>\n",
       "</table>\n",
       "</div>"
      ],
      "text/plain": [
       "          depositors  deposits  conversion_rate  revenue_segments  \\\n",
       "segments                                                            \n",
       "18784.0           29        61            0.000          6711.312   \n",
       "18785.0          186       268            0.001         13833.294   \n",
       "18786.0          221       338            0.001          5754.932   \n",
       "18787.0          210       388            0.001         33636.607   \n",
       "18788.0          835      1360            0.003         11424.124   \n",
       "18789.0          260       474            0.001          2786.020   \n",
       "\n",
       "          arppu_segments  arpu_segments  avg_per_user_deposits  \\\n",
       "segments                                                         \n",
       "18784.0          231.425          0.024                 97.695   \n",
       "18785.0           74.373          0.050                 48.682   \n",
       "18786.0           26.040          0.021                 19.304   \n",
       "18787.0          160.174          0.122                 77.895   \n",
       "18788.0           13.682          0.042                  9.600   \n",
       "18789.0           10.715          0.010                  5.842   \n",
       "\n",
       "          perc_of_revenue  \n",
       "segments                   \n",
       "18784.0             0.091  \n",
       "18785.0             0.187  \n",
       "18786.0             0.078  \n",
       "18787.0             0.454  \n",
       "18788.0             0.154  \n",
       "18789.0             0.038  "
      ]
     },
     "execution_count": 60,
     "metadata": {},
     "output_type": "execute_result"
    }
   ],
   "source": [
    "df_segments_4137.sort_index()"
   ]
  },
  {
   "cell_type": "markdown",
   "metadata": {},
   "source": [
    "## Метрики скидки 4137"
   ]
  },
  {
   "cell_type": "code",
   "execution_count": 53,
   "metadata": {},
   "outputs": [
    {
     "name": "stdout",
     "output_type": "stream",
     "text": [
      "depositors =  1741 \n",
      "deposits =  2889 \n",
      "conversion_rate =  0.006 \n",
      "revenue =  74146.29 \n",
      "arppu =  42.588 \n",
      "arpu =  0.27 \n",
      "avg per user deposits = 9.769\n"
     ]
    }
   ],
   "source": [
    "print('depositors = ',depositors_4137, '\\ndeposits = ',deposits_4137,'\\nconversion_rate = ',round(conversion_rate_4137,3), \n",
    "      '\\nrevenue = ',round(revenue_4137,3), '\\narppu = ', round(arppu_4137,3), '\\narpu = ', round(arpu_4137,3), \n",
    "      '\\navg per user deposits =',round(avg_per_user_deposits_4137,3))"
   ]
  },
  {
   "cell_type": "markdown",
   "metadata": {},
   "source": [
    "# Promotion 4138"
   ]
  },
  {
   "cell_type": "code",
   "execution_count": 25,
   "metadata": {},
   "outputs": [],
   "source": [
    "promotion_4138, depositors_4138, deposits_4138,conversion_rate_4138, revenue_4138, arppu_4138, arpu_4138, \\\n",
    "avg_per_user_deposits_4138,_ = metrics_monitization(df, 4138)"
   ]
  },
  {
   "cell_type": "code",
   "execution_count": 28,
   "metadata": {},
   "outputs": [
    {
     "data": {
      "text/plain": [
       "offerid  promotionid  price\n",
       "18790.0  4138.0       99.99     32\n",
       "18791.0  4138.0       49.99    169\n",
       "18792.0  4138.0       19.99    216\n",
       "18793.0  4138.0       79.99    227\n",
       "18794.0  4138.0       9.99     814\n",
       "18795.0  4138.0       5.99     264\n",
       "dtype: int64"
      ]
     },
     "execution_count": 28,
     "metadata": {},
     "output_type": "execute_result"
    }
   ],
   "source": [
    "promotion_4138[['offerid', 'promotionid', 'price']].groupby(['offerid', 'promotionid', 'price']).size()"
   ]
  },
  {
   "cell_type": "markdown",
   "metadata": {},
   "source": [
    "## Метрики для сегментов в скидке 4138"
   ]
  },
  {
   "cell_type": "code",
   "execution_count": 30,
   "metadata": {},
   "outputs": [],
   "source": [
    "segments_4138 = promotion_4138['offerid'].unique()"
   ]
  },
  {
   "cell_type": "code",
   "execution_count": 33,
   "metadata": {},
   "outputs": [
    {
     "name": "stderr",
     "output_type": "stream",
     "text": [
      "C:\\Users\\Natalia\\Anaconda3\\lib\\site-packages\\ipykernel_launcher.py:6: UserWarning: Boolean Series key will be reindexed to match DataFrame index.\n",
      "  \n"
     ]
    }
   ],
   "source": [
    "depositors_segments_4138 = {}\n",
    "deposits_segments_4138 = {}\n",
    "conversion_rate_segments_4138 = {}\n",
    "revenue_segments_4138 = {}\n",
    "arppu_segments_4138 = {}\n",
    "arpu_segments_4138 = {}\n",
    "avg_per_user_deposits_segement_4138 = {}\n",
    "perc_of_revenue_segments_4138 = {}\n",
    "for segment in segments_4138:\n",
    "    _, \\\n",
    "    depositors_segments_4138[segment],\\\n",
    "    deposits_segments_4138[segment], \\\n",
    "    conversion_rate_segments_4138[segment], \\\n",
    "    revenue_segments_4138[segment], \\\n",
    "    arppu_segments_4138[segment], \\\n",
    "    arpu_segments_4138[segment], \\\n",
    "    avg_per_user_deposits_segement_4138[segment],\\\n",
    "    perc_of_revenue_segments_4138[segment] =  metrics_monitization(df, 4138, segment)"
   ]
  },
  {
   "cell_type": "code",
   "execution_count": 61,
   "metadata": {},
   "outputs": [],
   "source": [
    "df_segments_4138 = pd.DataFrame({\n",
    "    'depositors':pd.Series(depositors_segments_4138),\\\n",
    "    'deposits':pd.Series(deposits_segments_4138), \\\n",
    "    'conversion_rate':pd.Series(conversion_rate_segments_4138).round(3), \\\n",
    "    'revenue_segments':pd.Series(revenue_segments_4138).round(3), \\\n",
    "    'arppu_segments':pd.Series(arppu_segments_4138).round(3), \\\n",
    "    'arpu_segments':pd.Series(arpu_segments_4138).round(3), \\\n",
    "    'avg_per_user_deposits':pd.Series(avg_per_user_deposits_segement_4138).round(3),\\\n",
    "    'perc_of_revenue': pd.Series(perc_of_revenue_segments_4138).round(3)\n",
    "})\n"
   ]
  },
  {
   "cell_type": "code",
   "execution_count": 62,
   "metadata": {},
   "outputs": [],
   "source": [
    "df_segments_4138.index.name = 'segments'"
   ]
  },
  {
   "cell_type": "code",
   "execution_count": 63,
   "metadata": {},
   "outputs": [
    {
     "data": {
      "text/html": [
       "<div>\n",
       "<style scoped>\n",
       "    .dataframe tbody tr th:only-of-type {\n",
       "        vertical-align: middle;\n",
       "    }\n",
       "\n",
       "    .dataframe tbody tr th {\n",
       "        vertical-align: top;\n",
       "    }\n",
       "\n",
       "    .dataframe thead th {\n",
       "        text-align: right;\n",
       "    }\n",
       "</style>\n",
       "<table border=\"1\" class=\"dataframe\">\n",
       "  <thead>\n",
       "    <tr style=\"text-align: right;\">\n",
       "      <th></th>\n",
       "      <th>depositors</th>\n",
       "      <th>deposits</th>\n",
       "      <th>conversion_rate</th>\n",
       "      <th>revenue_segments</th>\n",
       "      <th>arppu_segments</th>\n",
       "      <th>arpu_segments</th>\n",
       "      <th>avg_per_user_deposits</th>\n",
       "      <th>perc_of_revenue</th>\n",
       "    </tr>\n",
       "    <tr>\n",
       "      <th>segments</th>\n",
       "      <th></th>\n",
       "      <th></th>\n",
       "      <th></th>\n",
       "      <th></th>\n",
       "      <th></th>\n",
       "      <th></th>\n",
       "      <th></th>\n",
       "      <th></th>\n",
       "    </tr>\n",
       "  </thead>\n",
       "  <tbody>\n",
       "    <tr>\n",
       "      <td>18790.0</td>\n",
       "      <td>16</td>\n",
       "      <td>32</td>\n",
       "      <td>0.000</td>\n",
       "      <td>3314.395</td>\n",
       "      <td>207.150</td>\n",
       "      <td>0.012</td>\n",
       "      <td>100.171</td>\n",
       "      <td>0.077</td>\n",
       "    </tr>\n",
       "    <tr>\n",
       "      <td>18791.0</td>\n",
       "      <td>119</td>\n",
       "      <td>169</td>\n",
       "      <td>0.000</td>\n",
       "      <td>8493.842</td>\n",
       "      <td>71.377</td>\n",
       "      <td>0.031</td>\n",
       "      <td>48.682</td>\n",
       "      <td>0.198</td>\n",
       "    </tr>\n",
       "    <tr>\n",
       "      <td>18792.0</td>\n",
       "      <td>137</td>\n",
       "      <td>216</td>\n",
       "      <td>0.000</td>\n",
       "      <td>3837.376</td>\n",
       "      <td>28.010</td>\n",
       "      <td>0.014</td>\n",
       "      <td>19.459</td>\n",
       "      <td>0.089</td>\n",
       "    </tr>\n",
       "    <tr>\n",
       "      <td>18793.0</td>\n",
       "      <td>126</td>\n",
       "      <td>227</td>\n",
       "      <td>0.000</td>\n",
       "      <td>19242.272</td>\n",
       "      <td>152.716</td>\n",
       "      <td>0.070</td>\n",
       "      <td>77.895</td>\n",
       "      <td>0.449</td>\n",
       "    </tr>\n",
       "    <tr>\n",
       "      <td>18794.0</td>\n",
       "      <td>491</td>\n",
       "      <td>814</td>\n",
       "      <td>0.002</td>\n",
       "      <td>6556.268</td>\n",
       "      <td>13.353</td>\n",
       "      <td>0.024</td>\n",
       "      <td>9.652</td>\n",
       "      <td>0.153</td>\n",
       "    </tr>\n",
       "    <tr>\n",
       "      <td>18795.0</td>\n",
       "      <td>152</td>\n",
       "      <td>264</td>\n",
       "      <td>0.001</td>\n",
       "      <td>1454.331</td>\n",
       "      <td>9.568</td>\n",
       "      <td>0.005</td>\n",
       "      <td>5.791</td>\n",
       "      <td>0.034</td>\n",
       "    </tr>\n",
       "  </tbody>\n",
       "</table>\n",
       "</div>"
      ],
      "text/plain": [
       "          depositors  deposits  conversion_rate  revenue_segments  \\\n",
       "segments                                                            \n",
       "18790.0           16        32            0.000          3314.395   \n",
       "18791.0          119       169            0.000          8493.842   \n",
       "18792.0          137       216            0.000          3837.376   \n",
       "18793.0          126       227            0.000         19242.272   \n",
       "18794.0          491       814            0.002          6556.268   \n",
       "18795.0          152       264            0.001          1454.331   \n",
       "\n",
       "          arppu_segments  arpu_segments  avg_per_user_deposits  \\\n",
       "segments                                                         \n",
       "18790.0          207.150          0.012                100.171   \n",
       "18791.0           71.377          0.031                 48.682   \n",
       "18792.0           28.010          0.014                 19.459   \n",
       "18793.0          152.716          0.070                 77.895   \n",
       "18794.0           13.353          0.024                  9.652   \n",
       "18795.0            9.568          0.005                  5.791   \n",
       "\n",
       "          perc_of_revenue  \n",
       "segments                   \n",
       "18790.0             0.077  \n",
       "18791.0             0.198  \n",
       "18792.0             0.089  \n",
       "18793.0             0.449  \n",
       "18794.0             0.153  \n",
       "18795.0             0.034  "
      ]
     },
     "execution_count": 63,
     "metadata": {},
     "output_type": "execute_result"
    }
   ],
   "source": [
    "df_segments_4138.sort_index()"
   ]
  },
  {
   "cell_type": "markdown",
   "metadata": {},
   "source": [
    "## Метрики скидки 4138"
   ]
  },
  {
   "cell_type": "code",
   "execution_count": 64,
   "metadata": {},
   "outputs": [
    {
     "name": "stdout",
     "output_type": "stream",
     "text": [
      "depositors =  1041 \n",
      "deposits =  1722 \n",
      "conversion_rate =  0.004 \n",
      "revenue =  42898.484 \n",
      "arppu =  41.209 \n",
      "arpu =  0.156 \n",
      "avg per user deposits = 9.823\n"
     ]
    }
   ],
   "source": [
    "print('depositors = ',depositors_4138, '\\ndeposits = ',deposits_4138,'\\nconversion_rate = ',round(conversion_rate_4138,3), \n",
    "      '\\nrevenue = ',round(revenue_4138,3), '\\narppu = ', round(arppu_4138,3), '\\narpu = ', round(arpu_4138,3), \\\n",
    "      '\\navg per user deposits =', round(avg_per_user_deposits_4138,3))"
   ]
  },
  {
   "cell_type": "code",
   "execution_count": 36,
   "metadata": {},
   "outputs": [],
   "source": [
    "\"\"\"\n",
    "Анализ тренда дохода, количества юзеров, оплат\n",
    "\"\"\"\n",
    "df2 = df[['day','userid', 'revenue','promotionid']][(df['day']>='2019-11-12') & (df['day']<'2019-12-30')]"
   ]
  },
  {
   "cell_type": "markdown",
   "metadata": {},
   "source": [
    "### Доход общий, по скидкам 4137, 4138 и без них с '2019-11-12' по '2019-12-30'"
   ]
  },
  {
   "cell_type": "code",
   "execution_count": 37,
   "metadata": {},
   "outputs": [
    {
     "name": "stderr",
     "output_type": "stream",
     "text": [
      "C:\\Users\\Natalia\\Anaconda3\\lib\\site-packages\\pandas\\plotting\\_matplotlib\\converter.py:103: FutureWarning: Using an implicitly registered datetime converter for a matplotlib plotting method. The converter was registered by pandas on import. Future versions of pandas will require you to explicitly register matplotlib converters.\n",
      "\n",
      "To register the converters:\n",
      "\t>>> from pandas.plotting import register_matplotlib_converters\n",
      "\t>>> register_matplotlib_converters()\n",
      "  warnings.warn(msg, FutureWarning)\n",
      "C:\\Users\\Natalia\\Anaconda3\\lib\\site-packages\\ipykernel_launcher.py:7: UserWarning: Boolean Series key will be reindexed to match DataFrame index.\n",
      "  import sys\n"
     ]
    },
    {
     "data": {
      "image/png": "[encoded data removed]",
      "text/plain": [
       "<Figure size 1080x576 with 1 Axes>"
      ]
     },
     "metadata": {
      "needs_background": "light"
     },
     "output_type": "display_data"
    }
   ],
   "source": [
    "plt.figure(figsize=(15,8))\n",
    "\n",
    "line1, = plt.plot(df2[['day', 'revenue']].groupby(['day']).sum(),  label=\"revenue_all\")\n",
    "line2, =plt.plot(df2[['day', 'revenue']][df2['promotionid']==4137].groupby(['day']).sum(),  label=\"revenue_promotion_4137\")\n",
    "line3, =plt.plot(df2[['day', 'revenue']][df2['promotionid']==4138].groupby(['day']).sum(), label=\"revenue_promotion_4138\")\n",
    "line4, =plt.plot(df2[['day', 'revenue']][(df2['promotionid']!=4138) &(df2['promotionid']!=4137)&(df['day']>='2019-11-20') &\\\n",
    "                                 (df['day']<'2019-11-30')].groupby(['day']).sum(),label=\"revenue_w/o_promotion_4137_&_4138\")\n",
    "\n",
    "plt.legend(handles=[line1,line2,line3,line4],loc='upper left')\n",
    "plt.show()"
   ]
  },
  {
   "cell_type": "markdown",
   "metadata": {},
   "source": [
    "### Количество юзеров сделавших оплату - общее, по скидкам 4137, 4138 и без них с '2019-11-12' по '2019-12-30'"
   ]
  },
  {
   "cell_type": "code",
   "execution_count": 38,
   "metadata": {},
   "outputs": [
    {
     "name": "stderr",
     "output_type": "stream",
     "text": [
      "C:\\Users\\Natalia\\Anaconda3\\lib\\site-packages\\ipykernel_launcher.py:8: UserWarning: Boolean Series key will be reindexed to match DataFrame index.\n",
      "  \n"
     ]
    },
    {
     "data": {
      "image/png": "[encoded data removed]",
      "text/plain": [
       "<Figure size 1080x576 with 1 Axes>"
      ]
     },
     "metadata": {
      "needs_background": "light"
     },
     "output_type": "display_data"
    }
   ],
   "source": [
    "plt.figure(figsize=(15,8))\n",
    "line1, =plt.plot(df2[['day', 'userid']].groupby(['day']).agg({\"userid\": \"nunique\"}), label=\"n_of_users_all\")\n",
    "line2, =plt.plot(df2[['day', 'userid']][df2['promotionid']==4137].groupby(['day']).agg({\"userid\": \"nunique\"}),  \\\n",
    "                 label=\"n_of_users_promotion_4137\")\n",
    "line3, =plt.plot(df2[['day', 'userid']][df2['promotionid']==4138].groupby(['day']).agg({\"userid\": \"nunique\"}), \\\n",
    "                 label=\"n_of_users_4138\")\n",
    "line4, =plt.plot(df2[['day', 'userid']][(df2['promotionid']!=4138) &(df2['promotionid']!=4137)&(df['day']>='2019-11-20') &\\\n",
    "                                 (df['day']<'2019-11-30')].groupby(['day']).agg({\"userid\": \"nunique\"}),\\\n",
    "                 label=\"n_of_users_w/o_promotion_4137_&_4138\")\n",
    "plt.legend(handles=[line1,line2,line3,line4],loc='upper left')\n",
    "plt.show()"
   ]
  },
  {
   "cell_type": "markdown",
   "metadata": {},
   "source": [
    "### Количество оплат общее, по скидкам 4137, 4138 и без них с '2019-11-12' по '2019-12-30'"
   ]
  },
  {
   "cell_type": "code",
   "execution_count": 39,
   "metadata": {},
   "outputs": [
    {
     "name": "stderr",
     "output_type": "stream",
     "text": [
      "C:\\Users\\Natalia\\Anaconda3\\lib\\site-packages\\ipykernel_launcher.py:7: UserWarning: Boolean Series key will be reindexed to match DataFrame index.\n",
      "  import sys\n"
     ]
    },
    {
     "data": {
      "image/png": "[encoded data removed]",
      "text/plain": [
       "<Figure size 1080x576 with 1 Axes>"
      ]
     },
     "metadata": {
      "needs_background": "light"
     },
     "output_type": "display_data"
    }
   ],
   "source": [
    "plt.figure(figsize=(15,8))\n",
    "\n",
    "line1, = plt.plot(df2[['day', 'revenue']].groupby(['day']).count(),  label=\"deposits_all\")\n",
    "line2, =plt.plot(df2[['day', 'revenue']][df2['promotionid']==4137].groupby(['day']).count(),  label=\"deposits_promotion_4137\")\n",
    "line3, =plt.plot(df2[['day', 'revenue']][df2['promotionid']==4138].groupby(['day']).count(), label=\"deposits_promotion_4138\")\n",
    "line4, =plt.plot(df2[['day', 'revenue']][(df2['promotionid']!=4138) &(df2['promotionid']!=4137)&(df['day']>='2019-11-20') &\\\n",
    "                                 (df['day']<'2019-11-30')].groupby(['day']).count(),label=\"deposits_w/o_promotion_4137_&_4138\")\n",
    "plt.legend(handles=[line1,line2,line3,line4],loc='upper left')\n",
    "plt.show()"
   ]
  },
  {
   "cell_type": "markdown",
   "metadata": {},
   "source": [
    "Вывод: Promotions 4137 и 4138 увеличили практически в 2 раза сумму ревенью и количество оплат в первые 2 дня скидок, также увеличилось количество платежных юзеров. В дальнейшем есть всплеск количества покупок и общей суммы дохода 2го декабря, что также связано с другими скидками в тот период. \n",
    "Для скидки 4137 было больше покупок юзерами чем для скидки 4138, а также ревенью первой почти в 1.5 раза больше чем последней скидки."
   ]
  },
  {
   "cell_type": "markdown",
   "metadata": {},
   "source": [
    "# Задание 2"
   ]
  },
  {
   "cell_type": "code",
   "execution_count": 40,
   "metadata": {},
   "outputs": [],
   "source": [
    "from IPython.display import HTML, display\n",
    "import tabulate"
   ]
  },
  {
   "cell_type": "code",
   "execution_count": 41,
   "metadata": {},
   "outputs": [
    {
     "data": {
      "text/html": [
       "<table>\n",
       "<tbody>\n",
       "<tr><td>Points</td><td>Silver</td><td>Sapphire</td><td>Pikeman</td><td>Dragon</td></tr>\n",
       "<tr><td>100   </td><td>1000  </td><td>200     </td><td>100    </td><td>1     </td></tr>\n",
       "<tr><td>50000 </td><td>10000 </td><td>1000    </td><td>500    </td><td>5     </td></tr>\n",
       "</tbody>\n",
       "</table>"
      ],
      "text/plain": [
       "<IPython.core.display.HTML object>"
      ]
     },
     "metadata": {},
     "output_type": "display_data"
    }
   ],
   "source": [
    "table = [[\"Points\",\"Silver\",\"Sapphire\",\"Pikeman\", \"Dragon\"],\n",
    "         [100,1000,200,100,1],\n",
    "         [50000,10000,1000,500,5],\n",
    "         ]\n",
    "display(HTML(tabulate.tabulate(table, tablefmt='html')))"
   ]
  },
  {
   "cell_type": "markdown",
   "metadata": {},
   "source": [
    "С увелечением очков у игрока появляются различные бонусы, которые помогают быстрее добывать ресурсы, увеличивает мощь юнитов.  В процессе приобретения 100 очков пользователь еще является новичком, а набрать 50 000 очков подвластно уже профессиональному пользователю с несколькими месяцами и более опыта прохождения данной игры. Поэтому бонусы в начале должны быть мотивирующие. Дальше чем больше очков тем больше бонусов, но не прямо-пропорционально увелечению количество очков. Чем больше очков тем меньше прирост бонусов с целью оставить игрока подольше в игре, чтоб была цель что-то накопить и не быть всевластным. \\\n",
    "Не увидела пока в игре ценность серебра, хотя прошла все квесты новичка. Поэтому с расчета примерной той же ценности что и золото выставила такую сумму. \n"
   ]
  },
  {
   "cell_type": "markdown",
   "metadata": {},
   "source": [
    "При 100 очках награды \\\n",
    "Pikeman в случаи победы игрока принесет 100 * 40 = 4000 силы или 4 очка (правда есть и другие бонусы, которые увеличивают мощность воинов, поэтому все рассчеты приблизительны). \\\n",
    "Дракон 1680 = 1,5 очка \\\n",
    "И за 200 сапфиров можно восстановить часть войска до 20-30 юнитов взависимости от юнита \\\n",
    "За 1000 серебрянников можно построить или обновить несколько зданий или прикупить некоторых воинов"
   ]
  },
  {
   "cell_type": "markdown",
   "metadata": {},
   "source": [
    "При 50 000 очках \\\n",
    "Pikeman в случаи победы игрока принесет 500 * 40 = 20 000 силы или 20 очков. \\\n",
    "Дракон 1680*5 : 8 очков \\\n",
    "И за 1000 сапфиров можно восстановить юниты (пока не все юниты доступны и их ценность не известна) или купить около 75 очков и т.д \\\n",
    "За 10000 серебрянников можно построить или обновить 10ки зданий или прикупить некоторых воинов"
   ]
  }
 ],
 "metadata": {
  "kernelspec": {
   "display_name": "Python 3",
   "language": "python",
   "name": "python3"
  },
  "language_info": {
   "codemirror_mode": {
    "name": "ipython",
    "version": 3
   },
   "file_extension": ".py",
   "mimetype": "text/x-python",
   "name": "python",
   "nbconvert_exporter": "python",
   "pygments_lexer": "ipython3",
   "version": "3.7.4"
  }
 },
 "nbformat": 4,
 "nbformat_minor": 2
}
